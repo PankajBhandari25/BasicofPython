{
  "nbformat": 4,
  "nbformat_minor": 0,
  "metadata": {
    "colab": {
      "provenance": [],
      "toc_visible": true
    },
    "kernelspec": {
      "name": "python3",
      "display_name": "Python 3"
    },
    "language_info": {
      "name": "python"
    },
    "accelerator": "TPU",
    "gpuClass": "standard"
  },
  "cells": [
    {
      "cell_type": "markdown",
      "source": [
        "# What is Python?\n",
        "\n",
        "Python is a high-level language , general purpose programming language \n",
        "Often used to build websites, software , automation and data analysis"
      ],
      "metadata": {
        "id": "f58YMMRrGvpQ"
      }
    },
    {
      "cell_type": "markdown",
      "source": [
        "## **Ananconda Navigator : Desktop GUI  , easy to launch app, manage package and environment using command lines commands. \n",
        "\n",
        "Python ANd R two languages (DS, ML AI)\n",
        "\n",
        "Package manager Ananconda: conda\n",
        "Python : Pip\n",
        "\n",
        "**Jupyter Lab** , Notebook, Spyder,Pycharm,Vscode, Glueviz, R , Orange3studio"
      ],
      "metadata": {
        "id": "6C1wempnH7gN"
      }
    },
    {
      "cell_type": "markdown",
      "source": [
        "What are Data Types?\n",
        "\n",
        "DAta types are the classification or categorization of data items.\n",
        "\n",
        "1. Text Type: str\n",
        "2. Numeric Type: integer(int), float , complex(1k, 1a)\n",
        "3. Sequence type: list , tuple, range \n",
        "4.\n",
        "5.\n",
        "6.\n",
        "7."
      ],
      "metadata": {
        "id": "o7xtwjT5I6qM"
      }
    },
    {
      "cell_type": "code",
      "source": [
        "x=10"
      ],
      "metadata": {
        "id": "Z4cAanzYI5WF"
      },
      "execution_count": 5,
      "outputs": []
    },
    {
      "cell_type": "code",
      "source": [
        "type(x)"
      ],
      "metadata": {
        "colab": {
          "base_uri": "https://localhost:8080/"
        },
        "id": "wXJ3iVQiHjgk",
        "outputId": "b9d8b010-2559-4105-e75b-3dd98e2a28f5"
      },
      "execution_count": 3,
      "outputs": [
        {
          "output_type": "execute_result",
          "data": {
            "text/plain": [
              "int"
            ]
          },
          "metadata": {},
          "execution_count": 3
        }
      ]
    },
    {
      "cell_type": "code",
      "source": [
        "y=4.5\n"
      ],
      "metadata": {
        "id": "WZteN-iOGYMU"
      },
      "execution_count": 6,
      "outputs": []
    },
    {
      "cell_type": "code",
      "source": [
        "type(y)"
      ],
      "metadata": {
        "colab": {
          "base_uri": "https://localhost:8080/"
        },
        "id": "GHksd7Z0KTL5",
        "outputId": "d5ef3dbb-4bc1-44bf-a221-fa43e8343e81"
      },
      "execution_count": 7,
      "outputs": [
        {
          "output_type": "execute_result",
          "data": {
            "text/plain": [
              "float"
            ]
          },
          "metadata": {},
          "execution_count": 7
        }
      ]
    },
    {
      "cell_type": "code",
      "source": [
        "z= {\"Pankaj\", \"Bhanu\"}"
      ],
      "metadata": {
        "id": "yGsOBb0_KU_8"
      },
      "execution_count": 17,
      "outputs": []
    },
    {
      "cell_type": "code",
      "source": [
        "\n",
        "print(z)\n",
        "type(z)"
      ],
      "metadata": {
        "colab": {
          "base_uri": "https://localhost:8080/"
        },
        "id": "yomFXhdWKXqu",
        "outputId": "9cfeb12f-5534-4961-de7b-4b145fa618f1"
      },
      "execution_count": 18,
      "outputs": [
        {
          "output_type": "stream",
          "name": "stdout",
          "text": [
            "{'Pankaj', 'Bhanu'}\n"
          ]
        },
        {
          "output_type": "execute_result",
          "data": {
            "text/plain": [
              "set"
            ]
          },
          "metadata": {},
          "execution_count": 18
        }
      ]
    },
    {
      "cell_type": "code",
      "source": [
        "Grocery_list=[\"'ápple','álmonds','soap','water'\"]\n",
        "print(Grocery_list)"
      ],
      "metadata": {
        "colab": {
          "base_uri": "https://localhost:8080/"
        },
        "id": "VZy3OfWyKy6I",
        "outputId": "8c92782f-d278-491a-b43c-0989da377ad0"
      },
      "execution_count": 33,
      "outputs": [
        {
          "output_type": "stream",
          "name": "stdout",
          "text": [
            "[\"'ápple','álmonds','soap','water'\"]\n"
          ]
        }
      ]
    },
    {
      "cell_type": "code",
      "source": [
        "Grocery_list=['oil']\n",
        "print(Grocery_list)"
      ],
      "metadata": {
        "colab": {
          "base_uri": "https://localhost:8080/"
        },
        "id": "Ko-f69NTL7Th",
        "outputId": "13995b9e-9594-4955-c4ce-b57e0459ca27"
      },
      "execution_count": 24,
      "outputs": [
        {
          "output_type": "stream",
          "name": "stdout",
          "text": [
            "['oil']\n"
          ]
        }
      ]
    },
    {
      "cell_type": "code",
      "source": [
        "G_l2=[Grocery_list+ oil ]"
      ],
      "metadata": {
        "id": "HWwpm30rQqmh"
      },
      "execution_count": 40,
      "outputs": []
    },
    {
      "cell_type": "code",
      "source": [
        "oil=[\"öil\",'hfgusydg']"
      ],
      "metadata": {
        "id": "dGhFUchvQ8CJ"
      },
      "execution_count": 38,
      "outputs": []
    },
    {
      "cell_type": "code",
      "source": [
        "print(Grocery_list)"
      ],
      "metadata": {
        "colab": {
          "base_uri": "https://localhost:8080/"
        },
        "id": "sotFwx-JRXdU",
        "outputId": "a840ab72-4965-4b39-c885-f2a128d09194"
      },
      "execution_count": 35,
      "outputs": [
        {
          "output_type": "stream",
          "name": "stdout",
          "text": [
            "[\"'ápple','álmonds','soap','water'\"]\n"
          ]
        }
      ]
    },
    {
      "cell_type": "code",
      "source": [
        "print(G_l2)"
      ],
      "metadata": {
        "colab": {
          "base_uri": "https://localhost:8080/"
        },
        "id": "MB57bTq1Rjhl",
        "outputId": "19a2305a-9788-4fb5-e071-697d0f434cb3"
      },
      "execution_count": 41,
      "outputs": [
        {
          "output_type": "stream",
          "name": "stdout",
          "text": [
            "[[\"'ápple','álmonds','soap','water'\", 'öil', 'hfgusydg']]\n"
          ]
        }
      ]
    },
    {
      "cell_type": "code",
      "source": [
        "type(G_l2)"
      ],
      "metadata": {
        "colab": {
          "base_uri": "https://localhost:8080/"
        },
        "id": "Af6Oab-cR0Qn",
        "outputId": "dd7571bb-c6a3-4aaa-f81a-c6a92fd43c89"
      },
      "execution_count": 42,
      "outputs": [
        {
          "output_type": "execute_result",
          "data": {
            "text/plain": [
              "list"
            ]
          },
          "metadata": {},
          "execution_count": 42
        }
      ]
    },
    {
      "cell_type": "code",
      "source": [
        "G_l2=G_l2+2.5  #cannot add int, str, float . We can only add list to list"
      ],
      "metadata": {
        "colab": {
          "base_uri": "https://localhost:8080/",
          "height": 166
        },
        "id": "UbFJZjsrSIk1",
        "outputId": "39d7f8e7-fdc0-4da3-b953-b69422cff603"
      },
      "execution_count": 44,
      "outputs": [
        {
          "output_type": "error",
          "ename": "TypeError",
          "evalue": "ignored",
          "traceback": [
            "\u001b[0;31m---------------------------------------------------------------------------\u001b[0m",
            "\u001b[0;31mTypeError\u001b[0m                                 Traceback (most recent call last)",
            "\u001b[0;32m<ipython-input-44-64cf49745986>\u001b[0m in \u001b[0;36m<module>\u001b[0;34m\u001b[0m\n\u001b[0;32m----> 1\u001b[0;31m \u001b[0mG_l2\u001b[0m\u001b[0;34m=\u001b[0m\u001b[0mG_l2\u001b[0m\u001b[0;34m+\u001b[0m\u001b[0;36m2.5\u001b[0m\u001b[0;34m\u001b[0m\u001b[0;34m\u001b[0m\u001b[0m\n\u001b[0m",
            "\u001b[0;31mTypeError\u001b[0m: can only concatenate list (not \"float\") to list"
          ]
        }
      ]
    },
    {
      "cell_type": "markdown",
      "source": [
        "List is mutable.\n",
        "List of operations : Append,Insert,Remove,Pop,Reverse,Sort,Delete,Index,count,etc"
      ],
      "metadata": {
        "id": "MSSLGaOMSiKi"
      }
    },
    {
      "cell_type": "code",
      "source": [
        "G_l2.append('milk')"
      ],
      "metadata": {
        "id": "_2dznsPOSR-7"
      },
      "execution_count": 45,
      "outputs": []
    },
    {
      "cell_type": "code",
      "source": [
        "\n",
        "G_l2"
      ],
      "metadata": {
        "colab": {
          "base_uri": "https://localhost:8080/"
        },
        "id": "MNLeCEz7UMYt",
        "outputId": "57978089-9b2e-4a02-d577-29c87318ca2a"
      },
      "execution_count": 56,
      "outputs": [
        {
          "output_type": "execute_result",
          "data": {
            "text/plain": [
              "[[\"'ápple','álmonds','soap','water'\", 'öil', 'hfgusydg']]"
            ]
          },
          "metadata": {},
          "execution_count": 56
        }
      ]
    },
    {
      "cell_type": "code",
      "source": [
        "G_l2.insert(0,'milk')"
      ],
      "metadata": {
        "id": "S9l-Q_MfUOX7"
      },
      "execution_count": 48,
      "outputs": []
    },
    {
      "cell_type": "code",
      "source": [
        "del G_l2[2]\n"
      ],
      "metadata": {
        "colab": {
          "base_uri": "https://localhost:8080/",
          "height": 166
        },
        "id": "5ryBhisYUrAL",
        "outputId": "5b642f80-9ef4-4496-cc6b-ea7e57b899fb"
      },
      "execution_count": 57,
      "outputs": [
        {
          "output_type": "error",
          "ename": "IndexError",
          "evalue": "ignored",
          "traceback": [
            "\u001b[0;31m---------------------------------------------------------------------------\u001b[0m",
            "\u001b[0;31mIndexError\u001b[0m                                Traceback (most recent call last)",
            "\u001b[0;32m<ipython-input-57-af26276502ec>\u001b[0m in \u001b[0;36m<module>\u001b[0;34m\u001b[0m\n\u001b[0;32m----> 1\u001b[0;31m \u001b[0;32mdel\u001b[0m \u001b[0mG_l2\u001b[0m\u001b[0;34m[\u001b[0m\u001b[0;36m2\u001b[0m\u001b[0;34m]\u001b[0m\u001b[0;34m\u001b[0m\u001b[0;34m\u001b[0m\u001b[0m\n\u001b[0m",
            "\u001b[0;31mIndexError\u001b[0m: list assignment index out of range"
          ]
        }
      ]
    },
    {
      "cell_type": "markdown",
      "source": [
        "What is Python?\n",
        "Where we use Python ?\n",
        "What is Data ?\n",
        "What are Data types , with explanation of all datatypes?\n",
        "What is List? and operations of list with example"
      ],
      "metadata": {
        "id": "MZaydJZPWghm"
      }
    },
    {
      "cell_type": "code",
      "source": [],
      "metadata": {
        "id": "ElVEYw2jVQmD"
      },
      "execution_count": null,
      "outputs": []
    }
  ]
}